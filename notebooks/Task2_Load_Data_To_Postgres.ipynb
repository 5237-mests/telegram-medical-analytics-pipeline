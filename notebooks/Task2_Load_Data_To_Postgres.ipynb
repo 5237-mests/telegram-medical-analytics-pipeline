{
 "cells": [
  {
   "cell_type": "code",
   "execution_count": 1,
   "id": "3c72e868",
   "metadata": {},
   "outputs": [],
   "source": [
    "import sys\n",
    "import os\n",
    "#  add project root to the path\n",
    "sys.path.append(os.path.abspath('..'))\n",
    "sys.path.append(\"../src\") # add src directory to the path\n",
    "\n",
    "import nest_asyncio\n",
    "nest_asyncio.apply()  # Apply nest_asyncio to allow nested event loops"
   ]
  },
  {
   "cell_type": "code",
   "execution_count": 2,
   "id": "d1fc3679",
   "metadata": {},
   "outputs": [],
   "source": [
    "# ---------------------------------------------\n",
    "# 📌 Load Data to PostgreSQL (Task 2)\n",
    "# ---------------------------------------------\n",
    "\n",
    "from src.load_to_postgres import create_table, load_json_to_db, cur, conn\n",
    "\n",
    "# Create table (if not exists)\n",
    "create_table()"
   ]
  },
  {
   "cell_type": "code",
   "execution_count": 3,
   "id": "a78becde",
   "metadata": {},
   "outputs": [
    {
     "name": "stdout",
     "output_type": "stream",
     "text": [
      "✅ Loaded raw messages into Postgres\n"
     ]
    }
   ],
   "source": [
    "raw_dir = './data/raw/telegram_messages/2025-07-11/'\n",
    "\n",
    "# Load all JSON files to DB\n",
    "for root, dirs, files in os.walk(raw_dir):\n",
    "    for file in files:\n",
    "        if file.endswith('.json'):\n",
    "            load_json_to_db(os.path.join(root, file))\n",
    "\n",
    "print(\"✅ Loaded raw messages into Postgres\")"
   ]
  },
  {
   "cell_type": "code",
   "execution_count": 4,
   "id": "450a7785",
   "metadata": {},
   "outputs": [
    {
     "name": "stdout",
     "output_type": "stream",
     "text": [
      "✅ Loaded raw messages into Postgres\n"
     ]
    }
   ],
   "source": [
    "cur.close()\n",
    "conn.close()\n",
    "print(\"✅ Loaded raw messages into Postgres\")"
   ]
  }
 ],
 "metadata": {
  "kernelspec": {
   "display_name": "week7",
   "language": "python",
   "name": "python3"
  },
  "language_info": {
   "codemirror_mode": {
    "name": "ipython",
    "version": 3
   },
   "file_extension": ".py",
   "mimetype": "text/x-python",
   "name": "python",
   "nbconvert_exporter": "python",
   "pygments_lexer": "ipython3",
   "version": "3.13.2"
  }
 },
 "nbformat": 4,
 "nbformat_minor": 5
}
