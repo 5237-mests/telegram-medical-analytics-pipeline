{
 "cells": [
  {
   "cell_type": "markdown",
   "id": "607dfce8",
   "metadata": {},
   "source": [
    "# 📊 Task 1: Telegram Data Scraping & Collection\n",
    "\n",
    "**Project:** Medigram Data Pipeline  \n",
    "**Goal:** Extract raw Telegram messages and images related to Ethiopian medical businesses and store them in a structured Data Lake.\n",
    "\n",
    "---"
   ]
  },
  {
   "cell_type": "code",
   "execution_count": 21,
   "id": "850af2a6",
   "metadata": {},
   "outputs": [],
   "source": [
    "import sys\n",
    "import os\n",
    "#  add project root to the path\n",
    "sys.path.append(os.path.abspath('..'))\n",
    "sys.path.append(\"../src\") # add src directory to the path"
   ]
  },
  {
   "cell_type": "code",
   "execution_count": 22,
   "id": "c9f43cbf",
   "metadata": {},
   "outputs": [],
   "source": [
    "import nest_asyncio\n",
    "nest_asyncio.apply()  # Apply nest_asyncio to allow nested event loops"
   ]
  },
  {
   "cell_type": "code",
   "execution_count": 23,
   "id": "34f2bec7",
   "metadata": {},
   "outputs": [],
   "source": [
    "# ---------------------------------------------\n",
    "# 📌 3. Import Modular Code\n",
    "# ---------------------------------------------\n",
    "\n",
    "from src.main_scraper import run_scraper\n",
    "from src.telegram_client import client"
   ]
  },
  {
   "cell_type": "code",
   "execution_count": 26,
   "id": "9d7faf3b",
   "metadata": {},
   "outputs": [
    {
     "name": "stdout",
     "output_type": "stream",
     "text": [
      "Signed in successfully as Tsion me; remember to not break the ToS or you will risk an account ban!\n",
      "✅ Scraping Complete!\n"
     ]
    }
   ],
   "source": [
    "# ---------------------------------------------\n",
    "# 📌 4. Run Telegram Scraper (Async Safe)\n",
    "# ---------------------------------------------\n",
    "import asyncio\n",
    "\n",
    "async def main():\n",
    "    async with client:\n",
    "        await run_scraper()\n",
    "\n",
    "asyncio.run(main())\n",
    "\n",
    "print(\"✅ Scraping Complete!\")"
   ]
  },
  {
   "cell_type": "code",
   "execution_count": 34,
   "id": "9c8c7094",
   "metadata": {},
   "outputs": [
    {
     "name": "stdout",
     "output_type": "stream",
     "text": [
      "data/raw/telegram_messages\\2025-07-11\\CheMed123.json\n",
      "data/raw/telegram_messages\\2025-07-11\\lobelia4cosmetics.json\n",
      "data/raw/telegram_messages\\2025-07-11\\tikvahpharma.json\n",
      "Total messages: 100\n",
      "First message sample:\n",
      "{'id': 172252, 'date': '2025-07-11 15:03:31+00:00', 'text': 'Call for more info.', 'sender_id': -1001353257880, 'has_media': True, 'image_path': 'data/raw/telegram_messages\\\\images\\\\tikvahpharma_172252.jpg'}\n"
     ]
    }
   ],
   "source": [
    "\n",
    "# ---------------------------------------------\n",
    "# 📌 5. Verify Collected Data\n",
    "# ---------------------------------------------\n",
    "\n",
    "import json\n",
    "\n",
    "raw_dir = 'data/raw/telegram_messages'\n",
    "\n",
    "# List all saved JSON files\n",
    "for root, dirs, files in os.walk(raw_dir):\n",
    "    for file in files:\n",
    "        if file.endswith('.json'):\n",
    "            print(os.path.join(root, file))\n",
    "\n",
    "# Load and preview one file (update the date folder accordingly)\n",
    "example_file = './data/raw/telegram_messages/2025-07-11/tikvahpharma.json'\n",
    "\n",
    "with open(example_file, 'r', encoding='utf-8') as f:\n",
    "    data = json.load(f)\n",
    "    print(f\"Total messages: {len(data)}\")\n",
    "    print(\"First message sample:\")\n",
    "    print(data[0])\n"
   ]
  }
 ],
 "metadata": {
  "kernelspec": {
   "display_name": "week7",
   "language": "python",
   "name": "python3"
  },
  "language_info": {
   "codemirror_mode": {
    "name": "ipython",
    "version": 3
   },
   "file_extension": ".py",
   "mimetype": "text/x-python",
   "name": "python",
   "nbconvert_exporter": "python",
   "pygments_lexer": "ipython3",
   "version": "3.13.2"
  }
 },
 "nbformat": 4,
 "nbformat_minor": 5
}
